{
 "cells": [
  {
   "cell_type": "code",
   "execution_count": 1,
   "metadata": {},
   "outputs": [],
   "source": [
    "import pandas as pd\n",
    "import os"
   ]
  },
  {
   "cell_type": "markdown",
   "metadata": {},
   "source": [
    "# Leitura dos arquivos"
   ]
  },
  {
   "cell_type": "code",
   "execution_count": null,
   "metadata": {},
   "outputs": [],
   "source": [
    "# Leitura dos dados de Censo do IBGE de 2022\n",
    "\n",
    "df_censo = pd.read_csv('./dados/censo.csv', header=0, sep=';')\n",
    "df_censo.info()\n",
    "df_censo.head(5)"
   ]
  },
  {
   "cell_type": "code",
   "execution_count": null,
   "metadata": {},
   "outputs": [],
   "source": [
    "## Leitura do dicionário de dados\n",
    "\n",
    "df_dicionario = pd.read_csv('./dados/dicionario_censo_1.csv')\n",
    "df_dicionario.head(5)"
   ]
  },
  {
   "cell_type": "code",
   "execution_count": null,
   "metadata": {},
   "outputs": [],
   "source": [
    "# Leitura dos dados de IDH 2010\n",
    "\n",
    "df_idh = pd.read_csv('./dados/idh.csv',header=0, sep=';')\n",
    "df_idh.info()\n",
    "df_idh.head(5)"
   ]
  },
  {
   "cell_type": "code",
   "execution_count": null,
   "metadata": {},
   "outputs": [],
   "source": [
    "# Leitura dos dados de votação 2022\n",
    "\n",
    "df_votos = pd.read_csv('./dados/votos.csv', encoding='latin1', header=0, sep=';')\n",
    "df_votos.info()\n",
    "df_votos.head(5)"
   ]
  },
  {
   "cell_type": "code",
   "execution_count": null,
   "metadata": {},
   "outputs": [],
   "source": [
    "# Leitura dos dados de furtos 2009 a 2023\n",
    "\n",
    "df_furtos = pd.read_csv('./dados/furtos.csv', header=0, sep=',')\n",
    "df_furtos.info()\n",
    "df_furtos.head(5)"
   ]
  },
  {
   "cell_type": "code",
   "execution_count": null,
   "metadata": {},
   "outputs": [],
   "source": [
    "df_mapas_uf = pd.read_csv('./dados/mapas_uf.csv', header=0, sep=',')\n",
    "df_mapas_uf.info()\n",
    "df_mapas_uf.head(5)"
   ]
  },
  {
   "cell_type": "code",
   "execution_count": null,
   "metadata": {},
   "outputs": [],
   "source": [
    "df_mapas_municipio = pd.read_csv('./dados/mapas_municipio.csv', header=0, sep=',')\n",
    "df_mapas_municipio.info()\n",
    "df_mapas_municipio.head(5)"
   ]
  },
  {
   "cell_type": "code",
   "execution_count": null,
   "metadata": {},
   "outputs": [],
   "source": [
    "df_diretorios_uf = pd.read_csv('./dados/diretorios_uf.csv', header=0, sep=',')\n",
    "df_diretorios_uf.info()\n",
    "df_diretorios_uf.head(5)"
   ]
  },
  {
   "cell_type": "code",
   "execution_count": null,
   "metadata": {},
   "outputs": [],
   "source": [
    "df_diretorios_municipio = pd.read_csv('./dados/diretorios_municipio.csv', header=0, sep=',')\n",
    "df_diretorios_municipio.info()\n",
    "df_diretorios_municipio.head(5)"
   ]
  },
  {
   "cell_type": "markdown",
   "metadata": {},
   "source": [
    "# Tratamento dos dados"
   ]
  },
  {
   "cell_type": "markdown",
   "metadata": {},
   "source": [
    "### Idh"
   ]
  },
  {
   "cell_type": "markdown",
   "metadata": {},
   "source": [
    "- divisão da coluna `Territorialidades` em `Estado` e `Cidade`\n",
    "- renomeação das colunas"
   ]
  },
  {
   "cell_type": "code",
   "execution_count": null,
   "metadata": {},
   "outputs": [],
   "source": [
    "import numpy as np\n",
    "\n",
    "df_idh['estado'] = df_idh['Territorialidades'].str.split('(').str[1].str.split(')').str[0]\n",
    "df_idh['cidade'] = df_idh['Territorialidades'].str.split('(').str[0]\n",
    "\n",
    "df_idh.rename(columns={'IDHM 2010': 'idh', 'Territorialidades': 'territorialidades'}, inplace=True)\n",
    "df_idh['idh'] = df_idh['idh'].str.replace(',', '.').replace(' ', np.nan).astype(float)\n",
    "\n",
    "df_idh.head(5)"
   ]
  },
  {
   "cell_type": "markdown",
   "metadata": {},
   "source": [
    "### Censo"
   ]
  },
  {
   "cell_type": "markdown",
   "metadata": {},
   "source": [
    "- renomeação das colunas"
   ]
  },
  {
   "cell_type": "code",
   "execution_count": null,
   "metadata": {
    "vscode": {
     "languageId": "ruby"
    }
   },
   "outputs": [],
   "source": [
    "# Criar um dicionário de mapeamento a partir do df_dicionario\n",
    "mapping = {\n",
    "    'CD_REGIAO': 'codigo_regiao',\n",
    "    'NM_REGIAO': 'nome_regiao',\n",
    "    'CD_UF': 'codigo_uf',\n",
    "    'NM_UF': 'nome_uf',\n",
    "    'CD_MUNICIPIO': 'codigo_municipio',\n",
    "    'NM_MUNICIPIO': 'nome_municipio',\n",
    "    'Total_setores': 'total_setores',\n",
    "    'v0001': 'total_pessoas',\n",
    "    'v0002': 'total_domicilios',\n",
    "    'v0003': 'total_domicilios_particulares',\n",
    "    'v0004': 'total_domicilios_coletivos',\n",
    "    'v0005': 'media_moradores_domicilio_particular_ocupado',\n",
    "    'v0006': 'percentual_domicilios_particulares_ocupados',\n",
    "    'v0007': 'total_domicilios_particulares_ocupados',\n",
    "}\n",
    "\n",
    "# Renomear as colunas do df_censo\n",
    "df_censo = df_censo.rename(columns=mapping)\n",
    "df_censo.head(5)"
   ]
  },
  {
   "cell_type": "markdown",
   "metadata": {},
   "source": [
    "### Votos"
   ]
  },
  {
   "cell_type": "markdown",
   "metadata": {},
   "source": [
    "- renomeação das colunas"
   ]
  },
  {
   "cell_type": "code",
   "execution_count": 13,
   "metadata": {
    "vscode": {
     "languageId": "ruby"
    }
   },
   "outputs": [],
   "source": [
    "df_votos.rename(columns={\n",
    "    'CD_MUNICIPIO': 'codigo_municipio',\n",
    "    'NM_MUNICIPIO': 'nome_municipio',\n",
    "    'NM_VOTAVEL': 'nome_candidato',\n",
    "    'QT_VOTOS': 'total_votos'\n",
    "}, inplace=True)"
   ]
  },
  {
   "cell_type": "markdown",
   "metadata": {},
   "source": [
    "### Furtos"
   ]
  },
  {
   "cell_type": "markdown",
   "metadata": {},
   "source": [
    "- mudança do tipo de dado da coluna `Data` para `datetime`\n",
    "- criação da coluna `Ano` a partir da coluna `Data`\n",
    "- renomeação das colunas"
   ]
  },
  {
   "cell_type": "code",
   "execution_count": 14,
   "metadata": {
    "vscode": {
     "languageId": "ruby"
    }
   },
   "outputs": [],
   "source": [
    "df_furtos['Data'] = df_furtos['Data'] = pd.to_datetime(df_furtos['Data'], format='%d-%b-%y', dayfirst=True)\n",
    "df_furtos['ano'] = df_furtos['Data'].dt.year\n",
    "\n",
    "df_furtos.rename(columns={\n",
    "    'Município': 'nome_municipio',\n",
    "    'Dia da Semana': 'dia_semana',\n",
    "    'Data': 'data',\n",
    "    'Hora': 'hora'\n",
    "}, inplace=True)"
   ]
  },
  {
   "cell_type": "markdown",
   "metadata": {},
   "source": [
    "### UFs"
   ]
  },
  {
   "cell_type": "code",
   "execution_count": null,
   "metadata": {
    "vscode": {
     "languageId": "ruby"
    }
   },
   "outputs": [],
   "source": [
    "df_mapas_uf.rename(columns={\n",
    "    'sigla_uf': 'SG_UF',\n",
    "}, inplace=True)\n",
    "\n",
    "df_mapas_uf.head(5)"
   ]
  },
  {
   "cell_type": "markdown",
   "metadata": {},
   "source": [
    "### Municípios"
   ]
  },
  {
   "cell_type": "code",
   "execution_count": null,
   "metadata": {
    "vscode": {
     "languageId": "ruby"
    }
   },
   "outputs": [],
   "source": [
    "df_mapas_municipio.rename(columns={\n",
    "    'sigla_uf': 'SG_UF',\n",
    "}, inplace=True)\n",
    "\n",
    "df_mapas_municipio.head(5)"
   ]
  },
  {
   "cell_type": "markdown",
   "metadata": {},
   "source": [
    "### Diretórios UF"
   ]
  },
  {
   "cell_type": "code",
   "execution_count": null,
   "metadata": {
    "vscode": {
     "languageId": "ruby"
    }
   },
   "outputs": [],
   "source": [
    "df_diretorios_uf.rename(columns={\n",
    "    'sigla': 'SG_UF',\n",
    "}, inplace=True)\n",
    "\n",
    "df_diretorios_uf.head(5)"
   ]
  },
  {
   "cell_type": "markdown",
   "metadata": {},
   "source": [
    "### Diretórios Município"
   ]
  },
  {
   "cell_type": "code",
   "execution_count": null,
   "metadata": {
    "vscode": {
     "languageId": "ruby"
    }
   },
   "outputs": [],
   "source": [
    "df_diretorios_municipio.rename(columns={\n",
    "    'nome': 'nome_municipio',\n",
    "    'sigla_uf': 'SG_UF'\n",
    "}, inplace=True)\n",
    "\n",
    "df_diretorios_municipio.head(5)"
   ]
  },
  {
   "cell_type": "markdown",
   "metadata": {},
   "source": [
    "# Filtro de dados"
   ]
  },
  {
   "cell_type": "markdown",
   "metadata": {},
   "source": [
    "### Votos"
   ]
  },
  {
   "cell_type": "markdown",
   "metadata": {},
   "source": [
    "- filtrar dados de votos para Deputados Federais"
   ]
  },
  {
   "cell_type": "code",
   "execution_count": null,
   "metadata": {
    "vscode": {
     "languageId": "ruby"
    }
   },
   "outputs": [],
   "source": [
    "df_votos = df_votos[df_votos['DS_CARGO']=='DEPUTADO FEDERAL'].reset_index(drop=True)\n",
    "df_votos.info()"
   ]
  },
  {
   "cell_type": "markdown",
   "metadata": {},
   "source": [
    "### Censo"
   ]
  },
  {
   "cell_type": "markdown",
   "metadata": {},
   "source": [
    "- filtrar dados de censo para o Estado de Ceará"
   ]
  },
  {
   "cell_type": "code",
   "execution_count": null,
   "metadata": {
    "vscode": {
     "languageId": "ruby"
    }
   },
   "outputs": [],
   "source": [
    "df_censo = df_censo[df_censo['nome_uf'] == 'Ceará'].reset_index(drop=True)\n",
    "df_censo.info()"
   ]
  },
  {
   "cell_type": "markdown",
   "metadata": {},
   "source": [
    "### Mapas"
   ]
  },
  {
   "cell_type": "code",
   "execution_count": null,
   "metadata": {
    "vscode": {
     "languageId": "ruby"
    }
   },
   "outputs": [],
   "source": [
    "df_mapas_uf = df_mapas_uf[df_mapas_uf['SG_UF'] == 'CE'].reset_index(drop=True)\n",
    "df_mapas_uf.info()\n",
    "df_mapas_uf.head(5)"
   ]
  },
  {
   "cell_type": "code",
   "execution_count": null,
   "metadata": {
    "vscode": {
     "languageId": "ruby"
    }
   },
   "outputs": [],
   "source": [
    "df_mapas_municipio = df_mapas_municipio[df_mapas_municipio['SG_UF'] == 'CE'].reset_index(drop=True)\n",
    "df_mapas_municipio.info()\n",
    "df_mapas_municipio.head(5)"
   ]
  },
  {
   "cell_type": "code",
   "execution_count": null,
   "metadata": {
    "vscode": {
     "languageId": "ruby"
    }
   },
   "outputs": [],
   "source": [
    "df_diretorios_uf = df_diretorios_uf[df_diretorios_uf['SG_UF'] == 'CE'].reset_index(drop=True)\n",
    "df_diretorios_uf.info()\n",
    "df_diretorios_uf.head(5)"
   ]
  },
  {
   "cell_type": "code",
   "execution_count": null,
   "metadata": {
    "vscode": {
     "languageId": "ruby"
    }
   },
   "outputs": [],
   "source": [
    "df_diretorios_municipio = df_diretorios_municipio[df_diretorios_municipio['SG_UF'] == 'CE'].reset_index(drop=True)\n",
    "df_diretorios_municipio.info()\n",
    "df_diretorios_municipio.head(5)"
   ]
  },
  {
   "cell_type": "markdown",
   "metadata": {},
   "source": [
    "### IDH "
   ]
  },
  {
   "cell_type": "code",
   "execution_count": null,
   "metadata": {
    "vscode": {
     "languageId": "ruby"
    }
   },
   "outputs": [],
   "source": [
    "df_idh = df_idh[df_idh['idh'].notna()].reset_index(drop=True)\n",
    "df_idh"
   ]
  },
  {
   "cell_type": "markdown",
   "metadata": {},
   "source": [
    "# Agrergação dos dados"
   ]
  },
  {
   "cell_type": "markdown",
   "metadata": {},
   "source": [
    "### Votos"
   ]
  },
  {
   "cell_type": "markdown",
   "metadata": {},
   "source": [
    "- agrupar votos por cidade e candidato"
   ]
  },
  {
   "cell_type": "code",
   "execution_count": null,
   "metadata": {
    "vscode": {
     "languageId": "ruby"
    }
   },
   "outputs": [],
   "source": [
    "df_votos_agrupados = df_votos.groupby(['codigo_municipio','nome_municipio', 'nome_candidato'])[['total_votos']].sum().reset_index()\n",
    "df_votos_agrupados.info()"
   ]
  },
  {
   "cell_type": "markdown",
   "metadata": {},
   "source": [
    "### Furtos"
   ]
  },
  {
   "cell_type": "markdown",
   "metadata": {},
   "source": [
    "- agrupar furtos por cidade e ano"
   ]
  },
  {
   "cell_type": "code",
   "execution_count": null,
   "metadata": {
    "vscode": {
     "languageId": "ruby"
    }
   },
   "outputs": [],
   "source": [
    "df_furtos_agrupados = df_furtos.groupby(['nome_municipio', 'ano']).size().reset_index()\n",
    "df_furtos_agrupados.rename(columns={0: 'total_furtos'}, inplace=True)\n",
    "df_furtos_agrupados"
   ]
  },
  {
   "cell_type": "markdown",
   "metadata": {},
   "source": [
    "# Exploração dos dados"
   ]
  },
  {
   "cell_type": "code",
   "execution_count": null,
   "metadata": {
    "vscode": {
     "languageId": "ruby"
    }
   },
   "outputs": [],
   "source": [
    "df_votos_agrupados[['total_votos']].describe()"
   ]
  },
  {
   "cell_type": "code",
   "execution_count": null,
   "metadata": {
    "vscode": {
     "languageId": "ruby"
    }
   },
   "outputs": [],
   "source": [
    "df_idh[['idh']].describe()"
   ]
  },
  {
   "cell_type": "code",
   "execution_count": null,
   "metadata": {
    "vscode": {
     "languageId": "ruby"
    }
   },
   "outputs": [],
   "source": [
    "df_censo.describe()"
   ]
  },
  {
   "cell_type": "code",
   "execution_count": null,
   "metadata": {
    "vscode": {
     "languageId": "ruby"
    }
   },
   "outputs": [],
   "source": [
    "df_furtos_agrupados.describe()"
   ]
  },
  {
   "cell_type": "markdown",
   "metadata": {},
   "source": [
    "## Gerar as tabelas finais"
   ]
  },
  {
   "cell_type": "markdown",
   "metadata": {},
   "source": [
    "### Votos"
   ]
  },
  {
   "cell_type": "code",
   "execution_count": null,
   "metadata": {
    "vscode": {
     "languageId": "ruby"
    }
   },
   "outputs": [],
   "source": [
    "votos = df_votos[['ANO_ELEICAO', 'CD_TIPO_ELEICAO', 'NM_TIPO_ELEICAO', 'NR_TURNO', 'DT_ELEICAO', 'SG_UE','NM_UE','codigo_municipio','nome_municipio','NR_ZONA', 'NR_SECAO', 'CD_CARGO', 'DS_CARGO', 'NR_VOTAVEL', 'nome_candidato', 'total_votos']]\n",
    "\n",
    "votos.rename(columns={\n",
    "    'ANO_ELEICAO': 'ano_eleicao',\n",
    "    'CD_TIPO_ELEICAO': 'codigo_tipo_eleicao',\n",
    "    'NM_TIPO_ELEICAO': 'nome_tipo_eleicao',\n",
    "    'NR_TURNO': 'numero_turno',\n",
    "    'SG_UE': 'sigla_uf',\n",
    "    'NM_UE': 'nome_uf',\n",
    "    'codigo_municipio': 'id_municipio',\n",
    "    'NR_ZONA': 'numero_zona',\n",
    "    'NR_SECAO': 'numero_secao',\n",
    "    'CD_CARGO': 'codigo_cargo',\n",
    "    'DS_CARGO': 'nome_cargo',\n",
    "    'NR_VOTAVEL': 'numero_candidato',\n",
    "    'total_votos': 'total_votos'\n",
    "}, inplace=True)\n",
    "\n",
    "votos.to_csv('tabelas/VOTOS.csv', index=False)\n",
    "\n",
    "votos"
   ]
  },
  {
   "cell_type": "markdown",
   "metadata": {},
   "source": [
    "### Candidatos"
   ]
  },
  {
   "cell_type": "code",
   "execution_count": null,
   "metadata": {
    "vscode": {
     "languageId": "ruby"
    }
   },
   "outputs": [],
   "source": [
    "df_candidatos = df_votos[['nome_candidato', 'CD_CARGO','DS_CARGO', 'NR_VOTAVEL']].drop_duplicates().reset_index(drop=True)\n",
    "df_candidatos.rename(columns={\n",
    "    'CD_CARGO': 'codigo_cargo',\n",
    "    'DS_CARGO': 'nome_cargo',\n",
    "    'NR_VOTAVEL': 'numero_candidato'\n",
    "}, inplace=True    \n",
    ")\n",
    "\n",
    "df_candidatos.to_csv('tabelas/CANDIDATOS.csv', index=False)\n",
    "\n",
    "df_candidatos "
   ]
  },
  {
   "cell_type": "markdown",
   "metadata": {},
   "source": [
    "### Censo"
   ]
  },
  {
   "cell_type": "code",
   "execution_count": null,
   "metadata": {
    "vscode": {
     "languageId": "ruby"
    }
   },
   "outputs": [],
   "source": [
    "df_censo.rename(columns={\n",
    "    'codigo_uf': 'id_uf',\n",
    "    'CD_MUNICIPIO': 'id_municipio',\n",
    "    'NM_MUN': 'nome_municipio'\n",
    "}, inplace=True)\n",
    "df_censo.to_csv('tabelas/CENSO.csv', index=False)\n",
    "df_censo"
   ]
  },
  {
   "cell_type": "markdown",
   "metadata": {},
   "source": [
    "### IDH"
   ]
  },
  {
   "cell_type": "code",
   "execution_count": null,
   "metadata": {
    "vscode": {
     "languageId": "ruby"
    }
   },
   "outputs": [],
   "source": [
    "df_idh.rename(columns={\n",
    "    'estado': 'nome_uf',\n",
    "    'cidade': 'nome_municipio',\n",
    "}, inplace=True)\n",
    "df_idh.to_csv('tabelas/IDH.csv', index=False)\n",
    "df_idh"
   ]
  },
  {
   "cell_type": "markdown",
   "metadata": {},
   "source": [
    "### Furtos"
   ]
  },
  {
   "cell_type": "code",
   "execution_count": null,
   "metadata": {},
   "outputs": [],
   "source": [
    "df_furtos_agrupados.to_csv('./tabelas/FURTOS.csv', index=False)\n",
    "df_furtos_agrupados"
   ]
  },
  {
   "cell_type": "markdown",
   "metadata": {},
   "source": [
    "### Municipio"
   ]
  },
  {
   "cell_type": "code",
   "execution_count": null,
   "metadata": {},
   "outputs": [],
   "source": [
    "df_diretorios_municipio = df_diretorios_municipio[['id_municipio','id_municipio_tse', 'id_uf','nome_municipio','centroide']]\n",
    "\n",
    "df_diretorios_municipio.to_csv('./tabelas/MUNICIPIOS.csv', index=False)\n",
    "\n",
    "df_diretorios_municipio"
   ]
  },
  {
   "cell_type": "markdown",
   "metadata": {},
   "source": [
    "### Estados"
   ]
  },
  {
   "cell_type": "code",
   "execution_count": null,
   "metadata": {},
   "outputs": [],
   "source": [
    "df_estados = df_diretorios_uf.merge(df_mapas_uf[['id_uf','geometria']], on='id_uf')\n",
    "df_estados.rename(columns={'id_uf': 'id_ud', 'SG_uf': 'sigla_uf', 'nome': 'nome_uf'}, inplace=True)\n",
    "\n",
    "df_estados.to_csv('./tabelas/ESTADOS.csv', index=False)\n",
    "\n",
    "df_estados"
   ]
  }
 ],
 "metadata": {
  "kernelspec": {
   "display_name": "Python 3",
   "language": "python",
   "name": "python3"
  },
  "language_info": {
   "codemirror_mode": {
    "name": "ipython",
    "version": 3
   },
   "file_extension": ".py",
   "mimetype": "text/x-python",
   "name": "python",
   "nbconvert_exporter": "python",
   "pygments_lexer": "ipython3",
   "version": "3.12.3"
  }
 },
 "nbformat": 4,
 "nbformat_minor": 2
}
